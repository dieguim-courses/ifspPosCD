{
 "cells": [
  {
   "cell_type": "markdown",
   "id": "younger-unknown",
   "metadata": {},
   "source": [
    "## Exercício Inglês 02"
   ]
  },
  {
   "cell_type": "code",
   "execution_count": 18,
   "id": "cubic-provider",
   "metadata": {},
   "outputs": [
    {
     "data": {
      "text/html": [
       "<div>\n",
       "<style scoped>\n",
       "    .dataframe tbody tr th:only-of-type {\n",
       "        vertical-align: middle;\n",
       "    }\n",
       "\n",
       "    .dataframe tbody tr th {\n",
       "        vertical-align: top;\n",
       "    }\n",
       "\n",
       "    .dataframe thead th {\n",
       "        text-align: right;\n",
       "    }\n",
       "</style>\n",
       "<table border=\"1\" class=\"dataframe\">\n",
       "  <thead>\n",
       "    <tr style=\"text-align: right;\">\n",
       "      <th></th>\n",
       "      <th>Name</th>\n",
       "      <th>ID</th>\n",
       "      <th>Type</th>\n",
       "      <th>Mean Grade</th>\n",
       "    </tr>\n",
       "  </thead>\n",
       "  <tbody>\n",
       "    <tr>\n",
       "      <th>0</th>\n",
       "      <td>João das Neves</td>\n",
       "      <td>1111.0</td>\n",
       "      <td>NaN</td>\n",
       "      <td>8.0</td>\n",
       "    </tr>\n",
       "    <tr>\n",
       "      <th>1</th>\n",
       "      <td>Daniela Targaryen</td>\n",
       "      <td>NaN</td>\n",
       "      <td>Doctorate</td>\n",
       "      <td>NaN</td>\n",
       "    </tr>\n",
       "    <tr>\n",
       "      <th>2</th>\n",
       "      <td>Luke Caminhante do Céu</td>\n",
       "      <td>3333.0</td>\n",
       "      <td>NaN</td>\n",
       "      <td>8.0</td>\n",
       "    </tr>\n",
       "    <tr>\n",
       "      <th>3</th>\n",
       "      <td>Carolina Coralina</td>\n",
       "      <td>4444.0</td>\n",
       "      <td>MSc</td>\n",
       "      <td>9.8</td>\n",
       "    </tr>\n",
       "    <tr>\n",
       "      <th>4</th>\n",
       "      <td>NaN</td>\n",
       "      <td>555.0</td>\n",
       "      <td>Doctorate</td>\n",
       "      <td>9.9</td>\n",
       "    </tr>\n",
       "  </tbody>\n",
       "</table>\n",
       "</div>"
      ],
      "text/plain": [
       "                     Name      ID       Type  Mean Grade\n",
       "0          João das Neves  1111.0        NaN         8.0\n",
       "1       Daniela Targaryen     NaN  Doctorate         NaN\n",
       "2  Luke Caminhante do Céu  3333.0        NaN         8.0\n",
       "3       Carolina Coralina  4444.0        MSc         9.8\n",
       "4                     NaN   555.0  Doctorate         9.9"
      ]
     },
     "execution_count": 18,
     "metadata": {},
     "output_type": "execute_result"
    }
   ],
   "source": [
    "import pandas as pd\n",
    "import numpy as np\n",
    "\n",
    "d = {\n",
    "    'Name': [\n",
    "        'João das Neves',\n",
    "        'Daniela Targaryen',\n",
    "        'Luke Caminhante do Céu',\n",
    "        'Carolina Coralina',\n",
    "        np.nan\n",
    "    ],\n",
    "    'ID': [1111,np.nan, 3333, 4444, 555],\n",
    "    'Type': [np.nan, 'Doctorate', np.nan, 'MSc', 'Doctorate'],\n",
    "    'Mean Grade': [8.0, np.nan, 8.0, 9.8, 9.9]\n",
    "}\n",
    "data = pd.DataFrame(d)\n",
    "data"
   ]
  },
  {
   "cell_type": "code",
   "execution_count": 24,
   "id": "graphic-vintage",
   "metadata": {},
   "outputs": [
    {
     "data": {
      "text/html": [
       "<div>\n",
       "<style scoped>\n",
       "    .dataframe tbody tr th:only-of-type {\n",
       "        vertical-align: middle;\n",
       "    }\n",
       "\n",
       "    .dataframe tbody tr th {\n",
       "        vertical-align: top;\n",
       "    }\n",
       "\n",
       "    .dataframe thead th {\n",
       "        text-align: right;\n",
       "    }\n",
       "</style>\n",
       "<table border=\"1\" class=\"dataframe\">\n",
       "  <thead>\n",
       "    <tr style=\"text-align: right;\">\n",
       "      <th></th>\n",
       "      <th>Name</th>\n",
       "      <th>ID</th>\n",
       "      <th>Type</th>\n",
       "      <th>Mean Grade</th>\n",
       "    </tr>\n",
       "  </thead>\n",
       "  <tbody>\n",
       "    <tr>\n",
       "      <th>3</th>\n",
       "      <td>Carolina Coralina</td>\n",
       "      <td>4444.0</td>\n",
       "      <td>MSc</td>\n",
       "      <td>9.8</td>\n",
       "    </tr>\n",
       "  </tbody>\n",
       "</table>\n",
       "</div>"
      ],
      "text/plain": [
       "                Name      ID Type  Mean Grade\n",
       "3  Carolina Coralina  4444.0  MSc         9.8"
      ]
     },
     "execution_count": 24,
     "metadata": {},
     "output_type": "execute_result"
    }
   ],
   "source": [
    "#new_data = data.dropna(axis=0, how='any', subset=['ID', 'Type', 'Mean Grade'])\n",
    "#new_data = data.dropna(how='all', subset=['ID', 'Type', 'Mean Grade'])\n",
    "#new_data = data.dropna(axis=1, subset=['ID', 'Type', 'Mean Grade'])\n",
    "#new_data = data.dropna(axis=1, how='all')\n",
    "new_data = data.dropna()\n",
    "new_data"
   ]
  },
  {
   "cell_type": "markdown",
   "id": "specific-quebec",
   "metadata": {},
   "source": [
    "## Exercício Inglês 03"
   ]
  },
  {
   "cell_type": "code",
   "execution_count": 41,
   "id": "southwest-class",
   "metadata": {},
   "outputs": [],
   "source": [
    "Pop = 1e6\n",
    "\n",
    "vaccinated = 99e4\n",
    "vaccinated_reaction = 99e2\n",
    "vaccinated_reaction_died = 99\n",
    "\n",
    "notvaccinated = 1e4\n",
    "notvaccinated_smallpox = 200\n",
    "notvaccinated_smallpox_died = 40"
   ]
  },
  {
   "cell_type": "code",
   "execution_count": 50,
   "id": "whole-hostel",
   "metadata": {},
   "outputs": [
    {
     "name": "stdout",
     "output_type": "stream",
     "text": [
      "P(I) = 1.00%\n",
      "P(II) = 2.00%\n",
      "P(III) = 20.00%\n"
     ]
    }
   ],
   "source": [
    "#P = vaccinated_reaction_died / vaccinated\n",
    "#P = notvaccinated_smallpox_died / notvaccinated\n",
    "\n",
    "# I\n",
    "PI = vaccinated_reaction / vaccinated\n",
    "print(\"P(I) = {:.2%}\".format(PI))\n",
    "\n",
    "PII = notvaccinated_smallpox / notvaccinated\n",
    "print(\"P(II) = {:.2%}\".format(PII))\n",
    "\n",
    "PIII = notvaccinated_smallpox_died / notvaccinated_smallpox\n",
    "print(\"P(III) = {:.2%}\".format(PIII))\n"
   ]
  },
  {
   "cell_type": "code",
   "execution_count": null,
   "id": "silent-swedish",
   "metadata": {},
   "outputs": [],
   "source": []
  },
  {
   "cell_type": "code",
   "execution_count": null,
   "id": "nuclear-actor",
   "metadata": {},
   "outputs": [],
   "source": []
  },
  {
   "cell_type": "code",
   "execution_count": null,
   "id": "medical-dancing",
   "metadata": {},
   "outputs": [],
   "source": []
  },
  {
   "cell_type": "code",
   "execution_count": null,
   "id": "incident-millennium",
   "metadata": {},
   "outputs": [],
   "source": []
  },
  {
   "cell_type": "code",
   "execution_count": null,
   "id": "fourth-catering",
   "metadata": {},
   "outputs": [],
   "source": []
  }
 ],
 "metadata": {
  "kernelspec": {
   "display_name": "Python 3",
   "language": "python",
   "name": "python3"
  },
  "language_info": {
   "codemirror_mode": {
    "name": "ipython",
    "version": 3
   },
   "file_extension": ".py",
   "mimetype": "text/x-python",
   "name": "python",
   "nbconvert_exporter": "python",
   "pygments_lexer": "ipython3",
   "version": "3.8.6"
  }
 },
 "nbformat": 4,
 "nbformat_minor": 5
}
