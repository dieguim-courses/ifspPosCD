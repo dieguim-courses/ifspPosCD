{
 "cells": [
  {
   "cell_type": "code",
   "execution_count": 1,
   "id": "orange-peace",
   "metadata": {},
   "outputs": [],
   "source": [
    "import pandas as pd\n",
    "import matplotlib.pyplot as plt"
   ]
  },
  {
   "cell_type": "code",
   "execution_count": 2,
   "id": "seven-mistake",
   "metadata": {},
   "outputs": [
    {
     "data": {
      "text/html": [
       "<div>\n",
       "<style scoped>\n",
       "    .dataframe tbody tr th:only-of-type {\n",
       "        vertical-align: middle;\n",
       "    }\n",
       "\n",
       "    .dataframe tbody tr th {\n",
       "        vertical-align: top;\n",
       "    }\n",
       "\n",
       "    .dataframe thead th {\n",
       "        text-align: right;\n",
       "    }\n",
       "</style>\n",
       "<table border=\"1\" class=\"dataframe\">\n",
       "  <thead>\n",
       "    <tr style=\"text-align: right;\">\n",
       "      <th></th>\n",
       "      <th>Inscrição</th>\n",
       "      <th>Nome do Candidato</th>\n",
       "      <th>Pontuação</th>\n",
       "      <th>Ações Afirmativas</th>\n",
       "      <th>Classificado</th>\n",
       "    </tr>\n",
       "  </thead>\n",
       "  <tbody>\n",
       "    <tr>\n",
       "      <th>0</th>\n",
       "      <td>650</td>\n",
       "      <td>Carlos Danilo Tomé</td>\n",
       "      <td>18</td>\n",
       "      <td>NaN</td>\n",
       "      <td>1</td>\n",
       "    </tr>\n",
       "    <tr>\n",
       "      <th>1</th>\n",
       "      <td>834</td>\n",
       "      <td>Lucas Galdino De Camargo</td>\n",
       "      <td>18</td>\n",
       "      <td>NaN</td>\n",
       "      <td>1</td>\n",
       "    </tr>\n",
       "    <tr>\n",
       "      <th>2</th>\n",
       "      <td>976</td>\n",
       "      <td>Vinicius Vieira Albano</td>\n",
       "      <td>18</td>\n",
       "      <td>NaN</td>\n",
       "      <td>1</td>\n",
       "    </tr>\n",
       "    <tr>\n",
       "      <th>3</th>\n",
       "      <td>988</td>\n",
       "      <td>Amanda Rodrigues Da Silva</td>\n",
       "      <td>17</td>\n",
       "      <td>NaN</td>\n",
       "      <td>1</td>\n",
       "    </tr>\n",
       "    <tr>\n",
       "      <th>4</th>\n",
       "      <td>840</td>\n",
       "      <td>Carolina Ensfeld Lueders</td>\n",
       "      <td>17</td>\n",
       "      <td>NaN</td>\n",
       "      <td>1</td>\n",
       "    </tr>\n",
       "  </tbody>\n",
       "</table>\n",
       "</div>"
      ],
      "text/plain": [
       "   Inscrição          Nome do Candidato  Pontuação Ações Afirmativas  \\\n",
       "0        650         Carlos Danilo Tomé         18               NaN   \n",
       "1        834   Lucas Galdino De Camargo         18               NaN   \n",
       "2        976     Vinicius Vieira Albano         18               NaN   \n",
       "3        988  Amanda Rodrigues Da Silva         17               NaN   \n",
       "4        840   Carolina Ensfeld Lueders         17               NaN   \n",
       "\n",
       "   Classificado  \n",
       "0             1  \n",
       "1             1  \n",
       "2             1  \n",
       "3             1  \n",
       "4             1  "
      ]
     },
     "execution_count": 2,
     "metadata": {},
     "output_type": "execute_result"
    }
   ],
   "source": [
    "resultado = pd.read_csv('20210330-resultado_preliminar_prova_objetiva.csv')\n",
    "resultado.head()"
   ]
  },
  {
   "cell_type": "markdown",
   "id": "threaded-disease",
   "metadata": {},
   "source": [
    "## Classificados"
   ]
  },
  {
   "cell_type": "code",
   "execution_count": 3,
   "id": "billion-novel",
   "metadata": {},
   "outputs": [
    {
     "name": "stdout",
     "output_type": "stream",
     "text": [
      "Total classificados = 64\n"
     ]
    }
   ],
   "source": [
    "print(\"Total classificados =\", resultado['Classificado'].sum())"
   ]
  },
  {
   "cell_type": "code",
   "execution_count": 4,
   "id": "irish-tooth",
   "metadata": {},
   "outputs": [
    {
     "name": "stdout",
     "output_type": "stream",
     "text": [
      "Nota de corte (ampla concorrência) = 14\n"
     ]
    }
   ],
   "source": [
    "corte = min(resultado[resultado['Ações Afirmativas'].isna() & resultado['Classificado'] == 1]['Pontuação'])\n",
    "print(\"Nota de corte (ampla concorrência) =\", corte)"
   ]
  },
  {
   "cell_type": "markdown",
   "id": "social-completion",
   "metadata": {},
   "source": [
    "## Distribuição de notas"
   ]
  },
  {
   "cell_type": "code",
   "execution_count": 5,
   "id": "magnetic-alert",
   "metadata": {},
   "outputs": [
    {
     "data": {
      "text/plain": [
       "count    234.000000\n",
       "mean      10.264957\n",
       "std        3.863315\n",
       "min        0.000000\n",
       "25%        8.000000\n",
       "50%       10.000000\n",
       "75%       13.000000\n",
       "max       18.000000\n",
       "Name: Pontuação, dtype: float64"
      ]
     },
     "execution_count": 5,
     "metadata": {},
     "output_type": "execute_result"
    }
   ],
   "source": [
    "resultado['Pontuação'].describe()"
   ]
  },
  {
   "cell_type": "code",
   "execution_count": 6,
   "id": "sustainable-valley",
   "metadata": {},
   "outputs": [
    {
     "data": {
      "text/html": [
       "<div>\n",
       "<style scoped>\n",
       "    .dataframe tbody tr th:only-of-type {\n",
       "        vertical-align: middle;\n",
       "    }\n",
       "\n",
       "    .dataframe tbody tr th {\n",
       "        vertical-align: top;\n",
       "    }\n",
       "\n",
       "    .dataframe thead th {\n",
       "        text-align: right;\n",
       "    }\n",
       "</style>\n",
       "<table border=\"1\" class=\"dataframe\">\n",
       "  <thead>\n",
       "    <tr style=\"text-align: right;\">\n",
       "      <th></th>\n",
       "      <th>Inscrição</th>\n",
       "      <th>Classificado</th>\n",
       "    </tr>\n",
       "    <tr>\n",
       "      <th>Pontuação</th>\n",
       "      <th></th>\n",
       "      <th></th>\n",
       "    </tr>\n",
       "  </thead>\n",
       "  <tbody>\n",
       "    <tr>\n",
       "      <th>18</th>\n",
       "      <td>3</td>\n",
       "      <td>3</td>\n",
       "    </tr>\n",
       "    <tr>\n",
       "      <th>17</th>\n",
       "      <td>12</td>\n",
       "      <td>12</td>\n",
       "    </tr>\n",
       "    <tr>\n",
       "      <th>16</th>\n",
       "      <td>4</td>\n",
       "      <td>4</td>\n",
       "    </tr>\n",
       "    <tr>\n",
       "      <th>15</th>\n",
       "      <td>19</td>\n",
       "      <td>19</td>\n",
       "    </tr>\n",
       "    <tr>\n",
       "      <th>14</th>\n",
       "      <td>14</td>\n",
       "      <td>14</td>\n",
       "    </tr>\n",
       "    <tr>\n",
       "      <th>13</th>\n",
       "      <td>18</td>\n",
       "      <td>1</td>\n",
       "    </tr>\n",
       "    <tr>\n",
       "      <th>12</th>\n",
       "      <td>18</td>\n",
       "      <td>2</td>\n",
       "    </tr>\n",
       "    <tr>\n",
       "      <th>11</th>\n",
       "      <td>26</td>\n",
       "      <td>4</td>\n",
       "    </tr>\n",
       "    <tr>\n",
       "      <th>10</th>\n",
       "      <td>20</td>\n",
       "      <td>0</td>\n",
       "    </tr>\n",
       "    <tr>\n",
       "      <th>9</th>\n",
       "      <td>27</td>\n",
       "      <td>5</td>\n",
       "    </tr>\n",
       "    <tr>\n",
       "      <th>8</th>\n",
       "      <td>16</td>\n",
       "      <td>0</td>\n",
       "    </tr>\n",
       "    <tr>\n",
       "      <th>7</th>\n",
       "      <td>11</td>\n",
       "      <td>0</td>\n",
       "    </tr>\n",
       "    <tr>\n",
       "      <th>6</th>\n",
       "      <td>18</td>\n",
       "      <td>0</td>\n",
       "    </tr>\n",
       "    <tr>\n",
       "      <th>5</th>\n",
       "      <td>14</td>\n",
       "      <td>0</td>\n",
       "    </tr>\n",
       "    <tr>\n",
       "      <th>4</th>\n",
       "      <td>5</td>\n",
       "      <td>0</td>\n",
       "    </tr>\n",
       "    <tr>\n",
       "      <th>3</th>\n",
       "      <td>3</td>\n",
       "      <td>0</td>\n",
       "    </tr>\n",
       "    <tr>\n",
       "      <th>2</th>\n",
       "      <td>4</td>\n",
       "      <td>0</td>\n",
       "    </tr>\n",
       "    <tr>\n",
       "      <th>0</th>\n",
       "      <td>2</td>\n",
       "      <td>0</td>\n",
       "    </tr>\n",
       "  </tbody>\n",
       "</table>\n",
       "</div>"
      ],
      "text/plain": [
       "           Inscrição  Classificado\n",
       "Pontuação                         \n",
       "18                 3             3\n",
       "17                12            12\n",
       "16                 4             4\n",
       "15                19            19\n",
       "14                14            14\n",
       "13                18             1\n",
       "12                18             2\n",
       "11                26             4\n",
       "10                20             0\n",
       "9                 27             5\n",
       "8                 16             0\n",
       "7                 11             0\n",
       "6                 18             0\n",
       "5                 14             0\n",
       "4                  5             0\n",
       "3                  3             0\n",
       "2                  4             0\n",
       "0                  2             0"
      ]
     },
     "execution_count": 6,
     "metadata": {},
     "output_type": "execute_result"
    }
   ],
   "source": [
    "resultado.groupby(resultado['Pontuação']).agg({'Inscrição': 'count', 'Classificado': 'sum'}).sort_index(ascending = False)"
   ]
  },
  {
   "cell_type": "code",
   "execution_count": 7,
   "id": "developing-expert",
   "metadata": {},
   "outputs": [
    {
     "data": {
      "text/plain": [
       "<AxesSubplot:>"
      ]
     },
     "execution_count": 7,
     "metadata": {},
     "output_type": "execute_result"
    },
    {
     "data": {
      "image/png": "[encoded data removed]",
      "text/plain": [
       "<Figure size 432x288 with 1 Axes>"
      ]
     },
     "metadata": {
      "needs_background": "light"
     },
     "output_type": "display_data"
    }
   ],
   "source": [
    "resultado['Pontuação'].hist()"
   ]
  }
 ],
 "metadata": {
  "kernelspec": {
   "display_name": "Python 3",
   "language": "python",
   "name": "python3"
  },
  "language_info": {
   "codemirror_mode": {
    "name": "ipython",
    "version": 3
   },
   "file_extension": ".py",
   "mimetype": "text/x-python",
   "name": "python",
   "nbconvert_exporter": "python",
   "pygments_lexer": "ipython3",
   "version": "3.8.6"
  }
 },
 "nbformat": 4,
 "nbformat_minor": 5
}
